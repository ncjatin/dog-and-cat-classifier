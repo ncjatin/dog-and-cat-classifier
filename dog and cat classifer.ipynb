{
 "cells": [
  {
   "cell_type": "code",
   "execution_count": 1,
   "metadata": {},
   "outputs": [
    {
     "name": "stderr",
     "output_type": "stream",
     "text": [
      "Using TensorFlow backend.\n"
     ]
    }
   ],
   "source": [
    "# Part 1 - Building the CNN\n",
    "\n",
    "# Importing the Keras libraries and packages\n",
    "from keras.models import Sequential\n",
    "from keras.layers import Conv2D\n",
    "from keras.layers import MaxPooling2D\n",
    "from keras.layers import Flatten\n",
    "from keras.layers import Dense"
   ]
  },
  {
   "cell_type": "code",
   "execution_count": 2,
   "metadata": {},
   "outputs": [],
   "source": [
    "# Initialising the CNN\n",
    "classifier = Sequential()"
   ]
  },
  {
   "cell_type": "code",
   "execution_count": 3,
   "metadata": {},
   "outputs": [
    {
     "name": "stdout",
     "output_type": "stream",
     "text": [
      "WARNING:tensorflow:From C:\\Users\\Jatin\\Anaconda3\\lib\\site-packages\\tensorflow\\python\\framework\\op_def_library.py:263: colocate_with (from tensorflow.python.framework.ops) is deprecated and will be removed in a future version.\n",
      "Instructions for updating:\n",
      "Colocations handled automatically by placer.\n"
     ]
    }
   ],
   "source": [
    "# Step 1 - Convolution\n",
    "classifier.add(Conv2D(32, (3, 3), input_shape = (64, 64, 3), activation = 'relu'))\n"
   ]
  },
  {
   "cell_type": "code",
   "execution_count": 4,
   "metadata": {},
   "outputs": [],
   "source": [
    "# Step 2 - Pooling\n",
    "classifier.add(MaxPooling2D(pool_size = (2, 2)))\n"
   ]
  },
  {
   "cell_type": "code",
   "execution_count": 5,
   "metadata": {},
   "outputs": [],
   "source": [
    "# Step 3 - Flattening\n",
    "classifier.add(Flatten())"
   ]
  },
  {
   "cell_type": "code",
   "execution_count": 6,
   "metadata": {},
   "outputs": [],
   "source": [
    "# Step 4 - Full connection\n",
    "classifier.add(Dense(units = 128, activation = 'relu'))\n",
    "classifier.add(Dense(units = 1, activation = 'sigmoid'))\n"
   ]
  },
  {
   "cell_type": "code",
   "execution_count": 7,
   "metadata": {},
   "outputs": [],
   "source": [
    "# Compiling the CNN\n",
    "classifier.compile(optimizer = 'adam', loss = 'binary_crossentropy', metrics = ['accuracy'])\n"
   ]
  },
  {
   "cell_type": "code",
   "execution_count": null,
   "metadata": {},
   "outputs": [],
   "source": []
  },
  {
   "cell_type": "code",
   "execution_count": 8,
   "metadata": {},
   "outputs": [],
   "source": [
    "# Part 2 - Fitting the CNN to the images\n",
    "from keras.preprocessing.image import ImageDataGenerator\n"
   ]
  },
  {
   "cell_type": "code",
   "execution_count": 9,
   "metadata": {},
   "outputs": [],
   "source": [
    "train_datagen = ImageDataGenerator(rescale = 1./255,\n",
    "                                   shear_range = 0.2,\n",
    "                                   zoom_range = 0.2,\n",
    "                                   horizontal_flip = True)\n"
   ]
  },
  {
   "cell_type": "code",
   "execution_count": 10,
   "metadata": {},
   "outputs": [],
   "source": [
    "test_datagen = ImageDataGenerator(rescale = 1./255)\n"
   ]
  },
  {
   "cell_type": "code",
   "execution_count": 11,
   "metadata": {},
   "outputs": [
    {
     "name": "stdout",
     "output_type": "stream",
     "text": [
      "Found 8000 images belonging to 2 classes.\n"
     ]
    }
   ],
   "source": [
    "training_set = train_datagen.flow_from_directory('dataset/training_set',\n",
    "                                                 target_size = (64, 64),\n",
    "                                                 batch_size = 32,\n",
    "                                                 class_mode = 'binary')\n"
   ]
  },
  {
   "cell_type": "code",
   "execution_count": 12,
   "metadata": {},
   "outputs": [
    {
     "name": "stdout",
     "output_type": "stream",
     "text": [
      "Found 2000 images belonging to 2 classes.\n"
     ]
    }
   ],
   "source": [
    "test_set = test_datagen.flow_from_directory('dataset/test_set',\n",
    "                                            target_size = (64, 64),\n",
    "                                            batch_size = 32,\n",
    "                                            class_mode = 'binary')\n"
   ]
  },
  {
   "cell_type": "code",
   "execution_count": 13,
   "metadata": {},
   "outputs": [
    {
     "name": "stdout",
     "output_type": "stream",
     "text": [
      "WARNING:tensorflow:From C:\\Users\\Jatin\\Anaconda3\\lib\\site-packages\\tensorflow\\python\\ops\\math_ops.py:3066: to_int32 (from tensorflow.python.ops.math_ops) is deprecated and will be removed in a future version.\n",
      "Instructions for updating:\n",
      "Use tf.cast instead.\n",
      "Epoch 1/25\n",
      "8000/8000 [==============================] - 2772s 346ms/step - loss: 0.4066 - acc: 0.8059 - val_loss: 0.6971 - val_acc: 0.7649\n",
      "Epoch 2/25\n",
      "8000/8000 [==============================] - 2458s 307ms/step - loss: 0.1571 - acc: 0.9384 - val_loss: 1.1234 - val_acc: 0.7576\n",
      "Epoch 3/25\n",
      "8000/8000 [==============================] - 2446s 306ms/step - loss: 0.0819 - acc: 0.9703 - val_loss: 1.2994 - val_acc: 0.7648\n",
      "Epoch 4/25\n",
      "8000/8000 [==============================] - 3042s 380ms/step - loss: 0.0561 - acc: 0.9804 - val_loss: 1.4585 - val_acc: 0.7586\n",
      "Epoch 5/25\n",
      "8000/8000 [==============================] - 3302s 413ms/step - loss: 0.0431 - acc: 0.9852 - val_loss: 1.6193 - val_acc: 0.7581\n",
      "Epoch 6/25\n",
      "8000/8000 [==============================] - 2888s 361ms/step - loss: 0.0378 - acc: 0.9874 - val_loss: 1.8566 - val_acc: 0.7521\n",
      "Epoch 7/25\n",
      "8000/8000 [==============================] - 2174s 272ms/step - loss: 0.0321 - acc: 0.9894 - val_loss: 1.7522 - val_acc: 0.7720\n",
      "Epoch 8/25\n",
      "8000/8000 [==============================] - 2818s 352ms/step - loss: 0.0274 - acc: 0.9909 - val_loss: 1.8102 - val_acc: 0.7635\n",
      "Epoch 9/25\n",
      "8000/8000 [==============================] - 2289s 286ms/step - loss: 0.0244 - acc: 0.9921 - val_loss: 1.9622 - val_acc: 0.7672\n",
      "Epoch 10/25\n",
      "8000/8000 [==============================] - 3080s 385ms/step - loss: 0.0227 - acc: 0.9928 - val_loss: 2.0801 - val_acc: 0.7453\n",
      "Epoch 11/25\n",
      "8000/8000 [==============================] - 3584s 448ms/step - loss: 0.0191 - acc: 0.9936 - val_loss: 2.2308 - val_acc: 0.7410\n",
      "Epoch 12/25\n",
      "8000/8000 [==============================] - 2849s 356ms/step - loss: 0.0184 - acc: 0.9944 - val_loss: 1.8688 - val_acc: 0.7587\n",
      "Epoch 13/25\n",
      "8000/8000 [==============================] - 2175s 272ms/step - loss: 0.0166 - acc: 0.9947 - val_loss: 2.1267 - val_acc: 0.7490\n",
      "Epoch 14/25\n",
      "8000/8000 [==============================] - 2191s 274ms/step - loss: 0.0164 - acc: 0.9949 - val_loss: 2.1066 - val_acc: 0.7537\n",
      "Epoch 15/25\n",
      "8000/8000 [==============================] - 2205s 276ms/step - loss: 0.0146 - acc: 0.9954 - val_loss: 2.1455 - val_acc: 0.7519\n",
      "Epoch 16/25\n",
      "8000/8000 [==============================] - 2179s 272ms/step - loss: 0.0135 - acc: 0.9958 - val_loss: 2.3615 - val_acc: 0.7490\n",
      "Epoch 17/25\n",
      "8000/8000 [==============================] - 2175s 272ms/step - loss: 0.0133 - acc: 0.9960 - val_loss: 2.4154 - val_acc: 0.7482\n",
      "Epoch 18/25\n",
      "8000/8000 [==============================] - 2174s 272ms/step - loss: 0.0119 - acc: 0.9963 - val_loss: 2.3719 - val_acc: 0.7500\n",
      "Epoch 19/25\n",
      "8000/8000 [==============================] - 2185s 273ms/step - loss: 0.0121 - acc: 0.9965 - val_loss: 2.1507 - val_acc: 0.7651\n",
      "Epoch 20/25\n",
      "8000/8000 [==============================] - 2188s 273ms/step - loss: 0.0103 - acc: 0.9968 - val_loss: 2.2122 - val_acc: 0.7626\n",
      "Epoch 21/25\n",
      "8000/8000 [==============================] - 2174s 272ms/step - loss: 0.0113 - acc: 0.9966 - val_loss: 2.2691 - val_acc: 0.7536\n",
      "Epoch 22/25\n",
      "8000/8000 [==============================] - 2173s 272ms/step - loss: 0.0109 - acc: 0.9969 - val_loss: 2.2909 - val_acc: 0.7600\n",
      "Epoch 23/25\n",
      "8000/8000 [==============================] - 2172s 271ms/step - loss: 0.0096 - acc: 0.9971 - val_loss: 2.3082 - val_acc: 0.7669\n",
      "Epoch 24/25\n",
      "8000/8000 [==============================] - 2175s 272ms/step - loss: 0.0095 - acc: 0.9970 - val_loss: 2.3676 - val_acc: 0.7563\n",
      "Epoch 25/25\n",
      "8000/8000 [==============================] - 2179s 272ms/step - loss: 0.0098 - acc: 0.9971 - val_loss: 2.2532 - val_acc: 0.7675\n"
     ]
    },
    {
     "data": {
      "text/plain": [
       "<keras.callbacks.History at 0x12fd77dbef0>"
      ]
     },
     "execution_count": 13,
     "metadata": {},
     "output_type": "execute_result"
    }
   ],
   "source": [
    "classifier.fit_generator(training_set,\n",
    "                         steps_per_epoch = 8000,\n",
    "                         epochs = 25,\n",
    "                         validation_data = test_set,\n",
    "                         validation_steps = 2000)"
   ]
  }
 ],
 "metadata": {
  "kernelspec": {
   "display_name": "Python 3",
   "language": "python",
   "name": "python3"
  },
  "language_info": {
   "codemirror_mode": {
    "name": "ipython",
    "version": 3
   },
   "file_extension": ".py",
   "mimetype": "text/x-python",
   "name": "python",
   "nbconvert_exporter": "python",
   "pygments_lexer": "ipython3",
   "version": "3.7.3"
  }
 },
 "nbformat": 4,
 "nbformat_minor": 2
}
